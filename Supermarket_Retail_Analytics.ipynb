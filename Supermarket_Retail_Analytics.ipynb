{
  "nbformat": 4,
  "nbformat_minor": 0,
  "metadata": {
    "colab": {
      "provenance": [],
      "authorship_tag": "ABX9TyNUKalBseYfrZwvhqkWYE5u",
      "include_colab_link": true
    },
    "kernelspec": {
      "name": "python3",
      "display_name": "Python 3"
    },
    "language_info": {
      "name": "python"
    }
  },
  "cells": [
    {
      "cell_type": "markdown",
      "metadata": {
        "id": "view-in-github",
        "colab_type": "text"
      },
      "source": [
        "<a href=\"https://colab.research.google.com/github/akshykm/Supermarket-Retail-Analysis/blob/main/Supermarket_Retail_Analytics.ipynb\" target=\"_parent\"><img src=\"https://colab.research.google.com/assets/colab-badge.svg\" alt=\"Open In Colab\"/></a>"
      ]
    },
    {
      "cell_type": "code",
      "execution_count": 1,
      "metadata": {
        "id": "13mz8I7B5hQb"
      },
      "outputs": [],
      "source": [
        "import pandas as pd"
      ]
    },
    {
      "cell_type": "code",
      "source": [
        "# Load the dataset\n",
        "from google.colab import drive\n",
        "drive.mount('/content/gdrive')\n",
        "df = pd.read_csv('gdrive/My Drive/Supermarket Retail Analytics Dataset.csv')\n",
        "display(df.head(10))"
      ],
      "metadata": {
        "colab": {
          "base_uri": "https://localhost:8080/",
          "height": 380
        },
        "id": "xOoUhOw455tv",
        "outputId": "c1083856-6549-4f4c-df5e-cbdcf7a11255"
      },
      "execution_count": 3,
      "outputs": [
        {
          "output_type": "stream",
          "name": "stdout",
          "text": [
            "Mounted at /content/gdrive\n"
          ]
        },
        {
          "output_type": "display_data",
          "data": {
            "text/plain": [
              "  Order ID Customer Name          Category      Sub Category            City  \\\n",
              "0      OD1        Harish      Oil & Masala           Masalas         Vellore   \n",
              "1      OD2         Sudha         Beverages     Health Drinks     Krishnagiri   \n",
              "2      OD3       Hussain       Food Grains      Atta & Flour      Perambalur   \n",
              "3      OD4       Jackson  Fruits & Veggies  Fresh Vegetables      Dharmapuri   \n",
              "4      OD5       Ridhesh       Food Grains   Organic Staples            Ooty   \n",
              "5      OD6        Adavan       Food Grains   Organic Staples      Dharmapuri   \n",
              "6      OD7         Jonas  Fruits & Veggies  Fresh Vegetables          Trichy   \n",
              "7      OD8         Hafiz  Fruits & Veggies      Fresh Fruits  Ramanadhapuram   \n",
              "8      OD9         Hafiz            Bakery          Biscuits     Tirunelveli   \n",
              "9     OD10      Krithika            Bakery             Cakes         Chennai   \n",
              "\n",
              "   Order Date Region  Sales  Discount  Profit       State  \n",
              "0   11/8/2017  North   1254      0.12  401.28  Tamil Nadu  \n",
              "1   11/8/2017  South    749      0.18  149.80  Tamil Nadu  \n",
              "2   6/12/2017   West   2360      0.21  165.20  Tamil Nadu  \n",
              "3  10/11/2016  South    896      0.25   89.60  Tamil Nadu  \n",
              "4  10/11/2016  South   2355      0.26  918.45  Tamil Nadu  \n",
              "5    6/9/2015   West   2305      0.26  322.70  Tamil Nadu  \n",
              "6    6/9/2015   West    826      0.33  346.92  Tamil Nadu  \n",
              "7    6/9/2015   West   1847      0.32  147.76  Tamil Nadu  \n",
              "8    6/9/2015   West    791      0.23  181.93  Tamil Nadu  \n",
              "9    6/9/2015   West   1795      0.27  484.65  Tamil Nadu  "
            ],
            "text/html": [
              "\n",
              "  <div id=\"df-f8ac312e-f6df-424e-aac6-c889221640d3\" class=\"colab-df-container\">\n",
              "    <div>\n",
              "<style scoped>\n",
              "    .dataframe tbody tr th:only-of-type {\n",
              "        vertical-align: middle;\n",
              "    }\n",
              "\n",
              "    .dataframe tbody tr th {\n",
              "        vertical-align: top;\n",
              "    }\n",
              "\n",
              "    .dataframe thead th {\n",
              "        text-align: right;\n",
              "    }\n",
              "</style>\n",
              "<table border=\"1\" class=\"dataframe\">\n",
              "  <thead>\n",
              "    <tr style=\"text-align: right;\">\n",
              "      <th></th>\n",
              "      <th>Order ID</th>\n",
              "      <th>Customer Name</th>\n",
              "      <th>Category</th>\n",
              "      <th>Sub Category</th>\n",
              "      <th>City</th>\n",
              "      <th>Order Date</th>\n",
              "      <th>Region</th>\n",
              "      <th>Sales</th>\n",
              "      <th>Discount</th>\n",
              "      <th>Profit</th>\n",
              "      <th>State</th>\n",
              "    </tr>\n",
              "  </thead>\n",
              "  <tbody>\n",
              "    <tr>\n",
              "      <th>0</th>\n",
              "      <td>OD1</td>\n",
              "      <td>Harish</td>\n",
              "      <td>Oil &amp; Masala</td>\n",
              "      <td>Masalas</td>\n",
              "      <td>Vellore</td>\n",
              "      <td>11/8/2017</td>\n",
              "      <td>North</td>\n",
              "      <td>1254</td>\n",
              "      <td>0.12</td>\n",
              "      <td>401.28</td>\n",
              "      <td>Tamil Nadu</td>\n",
              "    </tr>\n",
              "    <tr>\n",
              "      <th>1</th>\n",
              "      <td>OD2</td>\n",
              "      <td>Sudha</td>\n",
              "      <td>Beverages</td>\n",
              "      <td>Health Drinks</td>\n",
              "      <td>Krishnagiri</td>\n",
              "      <td>11/8/2017</td>\n",
              "      <td>South</td>\n",
              "      <td>749</td>\n",
              "      <td>0.18</td>\n",
              "      <td>149.80</td>\n",
              "      <td>Tamil Nadu</td>\n",
              "    </tr>\n",
              "    <tr>\n",
              "      <th>2</th>\n",
              "      <td>OD3</td>\n",
              "      <td>Hussain</td>\n",
              "      <td>Food Grains</td>\n",
              "      <td>Atta &amp; Flour</td>\n",
              "      <td>Perambalur</td>\n",
              "      <td>6/12/2017</td>\n",
              "      <td>West</td>\n",
              "      <td>2360</td>\n",
              "      <td>0.21</td>\n",
              "      <td>165.20</td>\n",
              "      <td>Tamil Nadu</td>\n",
              "    </tr>\n",
              "    <tr>\n",
              "      <th>3</th>\n",
              "      <td>OD4</td>\n",
              "      <td>Jackson</td>\n",
              "      <td>Fruits &amp; Veggies</td>\n",
              "      <td>Fresh Vegetables</td>\n",
              "      <td>Dharmapuri</td>\n",
              "      <td>10/11/2016</td>\n",
              "      <td>South</td>\n",
              "      <td>896</td>\n",
              "      <td>0.25</td>\n",
              "      <td>89.60</td>\n",
              "      <td>Tamil Nadu</td>\n",
              "    </tr>\n",
              "    <tr>\n",
              "      <th>4</th>\n",
              "      <td>OD5</td>\n",
              "      <td>Ridhesh</td>\n",
              "      <td>Food Grains</td>\n",
              "      <td>Organic Staples</td>\n",
              "      <td>Ooty</td>\n",
              "      <td>10/11/2016</td>\n",
              "      <td>South</td>\n",
              "      <td>2355</td>\n",
              "      <td>0.26</td>\n",
              "      <td>918.45</td>\n",
              "      <td>Tamil Nadu</td>\n",
              "    </tr>\n",
              "    <tr>\n",
              "      <th>5</th>\n",
              "      <td>OD6</td>\n",
              "      <td>Adavan</td>\n",
              "      <td>Food Grains</td>\n",
              "      <td>Organic Staples</td>\n",
              "      <td>Dharmapuri</td>\n",
              "      <td>6/9/2015</td>\n",
              "      <td>West</td>\n",
              "      <td>2305</td>\n",
              "      <td>0.26</td>\n",
              "      <td>322.70</td>\n",
              "      <td>Tamil Nadu</td>\n",
              "    </tr>\n",
              "    <tr>\n",
              "      <th>6</th>\n",
              "      <td>OD7</td>\n",
              "      <td>Jonas</td>\n",
              "      <td>Fruits &amp; Veggies</td>\n",
              "      <td>Fresh Vegetables</td>\n",
              "      <td>Trichy</td>\n",
              "      <td>6/9/2015</td>\n",
              "      <td>West</td>\n",
              "      <td>826</td>\n",
              "      <td>0.33</td>\n",
              "      <td>346.92</td>\n",
              "      <td>Tamil Nadu</td>\n",
              "    </tr>\n",
              "    <tr>\n",
              "      <th>7</th>\n",
              "      <td>OD8</td>\n",
              "      <td>Hafiz</td>\n",
              "      <td>Fruits &amp; Veggies</td>\n",
              "      <td>Fresh Fruits</td>\n",
              "      <td>Ramanadhapuram</td>\n",
              "      <td>6/9/2015</td>\n",
              "      <td>West</td>\n",
              "      <td>1847</td>\n",
              "      <td>0.32</td>\n",
              "      <td>147.76</td>\n",
              "      <td>Tamil Nadu</td>\n",
              "    </tr>\n",
              "    <tr>\n",
              "      <th>8</th>\n",
              "      <td>OD9</td>\n",
              "      <td>Hafiz</td>\n",
              "      <td>Bakery</td>\n",
              "      <td>Biscuits</td>\n",
              "      <td>Tirunelveli</td>\n",
              "      <td>6/9/2015</td>\n",
              "      <td>West</td>\n",
              "      <td>791</td>\n",
              "      <td>0.23</td>\n",
              "      <td>181.93</td>\n",
              "      <td>Tamil Nadu</td>\n",
              "    </tr>\n",
              "    <tr>\n",
              "      <th>9</th>\n",
              "      <td>OD10</td>\n",
              "      <td>Krithika</td>\n",
              "      <td>Bakery</td>\n",
              "      <td>Cakes</td>\n",
              "      <td>Chennai</td>\n",
              "      <td>6/9/2015</td>\n",
              "      <td>West</td>\n",
              "      <td>1795</td>\n",
              "      <td>0.27</td>\n",
              "      <td>484.65</td>\n",
              "      <td>Tamil Nadu</td>\n",
              "    </tr>\n",
              "  </tbody>\n",
              "</table>\n",
              "</div>\n",
              "    <div class=\"colab-df-buttons\">\n",
              "\n",
              "  <div class=\"colab-df-container\">\n",
              "    <button class=\"colab-df-convert\" onclick=\"convertToInteractive('df-f8ac312e-f6df-424e-aac6-c889221640d3')\"\n",
              "            title=\"Convert this dataframe to an interactive table.\"\n",
              "            style=\"display:none;\">\n",
              "\n",
              "  <svg xmlns=\"http://www.w3.org/2000/svg\" height=\"24px\" viewBox=\"0 -960 960 960\">\n",
              "    <path d=\"M120-120v-720h720v720H120Zm60-500h600v-160H180v160Zm220 220h160v-160H400v160Zm0 220h160v-160H400v160ZM180-400h160v-160H180v160Zm440 0h160v-160H620v160ZM180-180h160v-160H180v160Zm440 0h160v-160H620v160Z\"/>\n",
              "  </svg>\n",
              "    </button>\n",
              "\n",
              "  <style>\n",
              "    .colab-df-container {\n",
              "      display:flex;\n",
              "      gap: 12px;\n",
              "    }\n",
              "\n",
              "    .colab-df-convert {\n",
              "      background-color: #E8F0FE;\n",
              "      border: none;\n",
              "      border-radius: 50%;\n",
              "      cursor: pointer;\n",
              "      display: none;\n",
              "      fill: #1967D2;\n",
              "      height: 32px;\n",
              "      padding: 0 0 0 0;\n",
              "      width: 32px;\n",
              "    }\n",
              "\n",
              "    .colab-df-convert:hover {\n",
              "      background-color: #E2EBFA;\n",
              "      box-shadow: 0px 1px 2px rgba(60, 64, 67, 0.3), 0px 1px 3px 1px rgba(60, 64, 67, 0.15);\n",
              "      fill: #174EA6;\n",
              "    }\n",
              "\n",
              "    .colab-df-buttons div {\n",
              "      margin-bottom: 4px;\n",
              "    }\n",
              "\n",
              "    [theme=dark] .colab-df-convert {\n",
              "      background-color: #3B4455;\n",
              "      fill: #D2E3FC;\n",
              "    }\n",
              "\n",
              "    [theme=dark] .colab-df-convert:hover {\n",
              "      background-color: #434B5C;\n",
              "      box-shadow: 0px 1px 3px 1px rgba(0, 0, 0, 0.15);\n",
              "      filter: drop-shadow(0px 1px 2px rgba(0, 0, 0, 0.3));\n",
              "      fill: #FFFFFF;\n",
              "    }\n",
              "  </style>\n",
              "\n",
              "    <script>\n",
              "      const buttonEl =\n",
              "        document.querySelector('#df-f8ac312e-f6df-424e-aac6-c889221640d3 button.colab-df-convert');\n",
              "      buttonEl.style.display =\n",
              "        google.colab.kernel.accessAllowed ? 'block' : 'none';\n",
              "\n",
              "      async function convertToInteractive(key) {\n",
              "        const element = document.querySelector('#df-f8ac312e-f6df-424e-aac6-c889221640d3');\n",
              "        const dataTable =\n",
              "          await google.colab.kernel.invokeFunction('convertToInteractive',\n",
              "                                                    [key], {});\n",
              "        if (!dataTable) return;\n",
              "\n",
              "        const docLinkHtml = 'Like what you see? Visit the ' +\n",
              "          '<a target=\"_blank\" href=https://colab.research.google.com/notebooks/data_table.ipynb>data table notebook</a>'\n",
              "          + ' to learn more about interactive tables.';\n",
              "        element.innerHTML = '';\n",
              "        dataTable['output_type'] = 'display_data';\n",
              "        await google.colab.output.renderOutput(dataTable, element);\n",
              "        const docLink = document.createElement('div');\n",
              "        docLink.innerHTML = docLinkHtml;\n",
              "        element.appendChild(docLink);\n",
              "      }\n",
              "    </script>\n",
              "  </div>\n",
              "\n",
              "\n",
              "    <div id=\"df-f29271c0-3057-4b83-a013-ca03ee4f8627\">\n",
              "      <button class=\"colab-df-quickchart\" onclick=\"quickchart('df-f29271c0-3057-4b83-a013-ca03ee4f8627')\"\n",
              "                title=\"Suggest charts\"\n",
              "                style=\"display:none;\">\n",
              "\n",
              "<svg xmlns=\"http://www.w3.org/2000/svg\" height=\"24px\"viewBox=\"0 0 24 24\"\n",
              "     width=\"24px\">\n",
              "    <g>\n",
              "        <path d=\"M19 3H5c-1.1 0-2 .9-2 2v14c0 1.1.9 2 2 2h14c1.1 0 2-.9 2-2V5c0-1.1-.9-2-2-2zM9 17H7v-7h2v7zm4 0h-2V7h2v10zm4 0h-2v-4h2v4z\"/>\n",
              "    </g>\n",
              "</svg>\n",
              "      </button>\n",
              "\n",
              "<style>\n",
              "  .colab-df-quickchart {\n",
              "      --bg-color: #E8F0FE;\n",
              "      --fill-color: #1967D2;\n",
              "      --hover-bg-color: #E2EBFA;\n",
              "      --hover-fill-color: #174EA6;\n",
              "      --disabled-fill-color: #AAA;\n",
              "      --disabled-bg-color: #DDD;\n",
              "  }\n",
              "\n",
              "  [theme=dark] .colab-df-quickchart {\n",
              "      --bg-color: #3B4455;\n",
              "      --fill-color: #D2E3FC;\n",
              "      --hover-bg-color: #434B5C;\n",
              "      --hover-fill-color: #FFFFFF;\n",
              "      --disabled-bg-color: #3B4455;\n",
              "      --disabled-fill-color: #666;\n",
              "  }\n",
              "\n",
              "  .colab-df-quickchart {\n",
              "    background-color: var(--bg-color);\n",
              "    border: none;\n",
              "    border-radius: 50%;\n",
              "    cursor: pointer;\n",
              "    display: none;\n",
              "    fill: var(--fill-color);\n",
              "    height: 32px;\n",
              "    padding: 0;\n",
              "    width: 32px;\n",
              "  }\n",
              "\n",
              "  .colab-df-quickchart:hover {\n",
              "    background-color: var(--hover-bg-color);\n",
              "    box-shadow: 0 1px 2px rgba(60, 64, 67, 0.3), 0 1px 3px 1px rgba(60, 64, 67, 0.15);\n",
              "    fill: var(--button-hover-fill-color);\n",
              "  }\n",
              "\n",
              "  .colab-df-quickchart-complete:disabled,\n",
              "  .colab-df-quickchart-complete:disabled:hover {\n",
              "    background-color: var(--disabled-bg-color);\n",
              "    fill: var(--disabled-fill-color);\n",
              "    box-shadow: none;\n",
              "  }\n",
              "\n",
              "  .colab-df-spinner {\n",
              "    border: 2px solid var(--fill-color);\n",
              "    border-color: transparent;\n",
              "    border-bottom-color: var(--fill-color);\n",
              "    animation:\n",
              "      spin 1s steps(1) infinite;\n",
              "  }\n",
              "\n",
              "  @keyframes spin {\n",
              "    0% {\n",
              "      border-color: transparent;\n",
              "      border-bottom-color: var(--fill-color);\n",
              "      border-left-color: var(--fill-color);\n",
              "    }\n",
              "    20% {\n",
              "      border-color: transparent;\n",
              "      border-left-color: var(--fill-color);\n",
              "      border-top-color: var(--fill-color);\n",
              "    }\n",
              "    30% {\n",
              "      border-color: transparent;\n",
              "      border-left-color: var(--fill-color);\n",
              "      border-top-color: var(--fill-color);\n",
              "      border-right-color: var(--fill-color);\n",
              "    }\n",
              "    40% {\n",
              "      border-color: transparent;\n",
              "      border-right-color: var(--fill-color);\n",
              "      border-top-color: var(--fill-color);\n",
              "    }\n",
              "    60% {\n",
              "      border-color: transparent;\n",
              "      border-right-color: var(--fill-color);\n",
              "    }\n",
              "    80% {\n",
              "      border-color: transparent;\n",
              "      border-right-color: var(--fill-color);\n",
              "      border-bottom-color: var(--fill-color);\n",
              "    }\n",
              "    90% {\n",
              "      border-color: transparent;\n",
              "      border-bottom-color: var(--fill-color);\n",
              "    }\n",
              "  }\n",
              "</style>\n",
              "\n",
              "      <script>\n",
              "        async function quickchart(key) {\n",
              "          const quickchartButtonEl =\n",
              "            document.querySelector('#' + key + ' button');\n",
              "          quickchartButtonEl.disabled = true;  // To prevent multiple clicks.\n",
              "          quickchartButtonEl.classList.add('colab-df-spinner');\n",
              "          try {\n",
              "            const charts = await google.colab.kernel.invokeFunction(\n",
              "                'suggestCharts', [key], {});\n",
              "          } catch (error) {\n",
              "            console.error('Error during call to suggestCharts:', error);\n",
              "          }\n",
              "          quickchartButtonEl.classList.remove('colab-df-spinner');\n",
              "          quickchartButtonEl.classList.add('colab-df-quickchart-complete');\n",
              "        }\n",
              "        (() => {\n",
              "          let quickchartButtonEl =\n",
              "            document.querySelector('#df-f29271c0-3057-4b83-a013-ca03ee4f8627 button');\n",
              "          quickchartButtonEl.style.display =\n",
              "            google.colab.kernel.accessAllowed ? 'block' : 'none';\n",
              "        })();\n",
              "      </script>\n",
              "    </div>\n",
              "\n",
              "    </div>\n",
              "  </div>\n"
            ],
            "application/vnd.google.colaboratory.intrinsic+json": {
              "type": "dataframe",
              "summary": "{\n  \"name\": \"display(df\",\n  \"rows\": 10,\n  \"fields\": [\n    {\n      \"column\": \"Order ID\",\n      \"properties\": {\n        \"dtype\": \"string\",\n        \"num_unique_values\": 10,\n        \"samples\": [\n          \"OD9\",\n          \"OD2\",\n          \"OD6\"\n        ],\n        \"semantic_type\": \"\",\n        \"description\": \"\"\n      }\n    },\n    {\n      \"column\": \"Customer Name\",\n      \"properties\": {\n        \"dtype\": \"string\",\n        \"num_unique_values\": 9,\n        \"samples\": [\n          \"Hafiz\",\n          \"Sudha\",\n          \"Adavan\"\n        ],\n        \"semantic_type\": \"\",\n        \"description\": \"\"\n      }\n    },\n    {\n      \"column\": \"Category\",\n      \"properties\": {\n        \"dtype\": \"string\",\n        \"num_unique_values\": 5,\n        \"samples\": [\n          \"Beverages\",\n          \"Bakery\",\n          \"Food Grains\"\n        ],\n        \"semantic_type\": \"\",\n        \"description\": \"\"\n      }\n    },\n    {\n      \"column\": \"Sub Category\",\n      \"properties\": {\n        \"dtype\": \"string\",\n        \"num_unique_values\": 8,\n        \"samples\": [\n          \"Health Drinks\",\n          \"Fresh Fruits\",\n          \"Masalas\"\n        ],\n        \"semantic_type\": \"\",\n        \"description\": \"\"\n      }\n    },\n    {\n      \"column\": \"City\",\n      \"properties\": {\n        \"dtype\": \"string\",\n        \"num_unique_values\": 9,\n        \"samples\": [\n          \"Tirunelveli\",\n          \"Krishnagiri\",\n          \"Trichy\"\n        ],\n        \"semantic_type\": \"\",\n        \"description\": \"\"\n      }\n    },\n    {\n      \"column\": \"Order Date\",\n      \"properties\": {\n        \"dtype\": \"object\",\n        \"num_unique_values\": 4,\n        \"samples\": [\n          \"6/12/2017\",\n          \"6/9/2015\",\n          \"11/8/2017\"\n        ],\n        \"semantic_type\": \"\",\n        \"description\": \"\"\n      }\n    },\n    {\n      \"column\": \"Region\",\n      \"properties\": {\n        \"dtype\": \"category\",\n        \"num_unique_values\": 3,\n        \"samples\": [\n          \"North\",\n          \"South\",\n          \"West\"\n        ],\n        \"semantic_type\": \"\",\n        \"description\": \"\"\n      }\n    },\n    {\n      \"column\": \"Sales\",\n      \"properties\": {\n        \"dtype\": \"number\",\n        \"std\": 688,\n        \"min\": 749,\n        \"max\": 2360,\n        \"num_unique_values\": 10,\n        \"samples\": [\n          791,\n          749,\n          2305\n        ],\n        \"semantic_type\": \"\",\n        \"description\": \"\"\n      }\n    },\n    {\n      \"column\": \"Discount\",\n      \"properties\": {\n        \"dtype\": \"number\",\n        \"std\": 0.06254775952999615,\n        \"min\": 0.12,\n        \"max\": 0.33,\n        \"num_unique_values\": 9,\n        \"samples\": [\n          0.23,\n          0.18,\n          0.33\n        ],\n        \"semantic_type\": \"\",\n        \"description\": \"\"\n      }\n    },\n    {\n      \"column\": \"Profit\",\n      \"properties\": {\n        \"dtype\": \"number\",\n        \"std\": 246.60556673224823,\n        \"min\": 89.6,\n        \"max\": 918.45,\n        \"num_unique_values\": 10,\n        \"samples\": [\n          181.93,\n          149.8,\n          322.7\n        ],\n        \"semantic_type\": \"\",\n        \"description\": \"\"\n      }\n    },\n    {\n      \"column\": \"State\",\n      \"properties\": {\n        \"dtype\": \"category\",\n        \"num_unique_values\": 1,\n        \"samples\": [\n          \"Tamil Nadu\"\n        ],\n        \"semantic_type\": \"\",\n        \"description\": \"\"\n      }\n    }\n  ]\n}"
            }
          },
          "metadata": {}
        }
      ]
    },
    {
      "cell_type": "code",
      "source": [
        "# Check for missing values\n",
        "print(\"\\nMissing Values:\\n\", df.isnull().sum())"
      ],
      "metadata": {
        "colab": {
          "base_uri": "https://localhost:8080/"
        },
        "id": "TIj421Sl7ul-",
        "outputId": "da224441-3ca1-4c43-f01a-e24ce91fe58a"
      },
      "execution_count": 5,
      "outputs": [
        {
          "output_type": "stream",
          "name": "stdout",
          "text": [
            "\n",
            "Missing Values:\n",
            " Order ID         0\n",
            "Customer Name    0\n",
            "Category         0\n",
            "Sub Category     0\n",
            "City             0\n",
            "Order Date       0\n",
            "Region           0\n",
            "Sales            0\n",
            "Discount         0\n",
            "Profit           0\n",
            "State            0\n",
            "dtype: int64\n"
          ]
        }
      ]
    },
    {
      "cell_type": "code",
      "source": [
        "#listing down the columns\n",
        "df.columns.values"
      ],
      "metadata": {
        "colab": {
          "base_uri": "https://localhost:8080/"
        },
        "id": "PaupdgEf73Ow",
        "outputId": "a3a3fa7b-c04e-4802-a5ea-6ae26ee31cb4"
      },
      "execution_count": 6,
      "outputs": [
        {
          "output_type": "execute_result",
          "data": {
            "text/plain": [
              "array(['Order ID', 'Customer Name', 'Category', 'Sub Category', 'City',\n",
              "       'Order Date', 'Region', 'Sales', 'Discount', 'Profit', 'State'],\n",
              "      dtype=object)"
            ]
          },
          "metadata": {},
          "execution_count": 6
        }
      ]
    },
    {
      "cell_type": "code",
      "source": [
        "# Data types correction if needed\n",
        "df['Order Date'] = pd.to_datetime(df['Order Date'])"
      ],
      "metadata": {
        "id": "143phYI976Uf"
      },
      "execution_count": 8,
      "outputs": []
    },
    {
      "cell_type": "code",
      "source": [
        "df.info()"
      ],
      "metadata": {
        "colab": {
          "base_uri": "https://localhost:8080/"
        },
        "id": "5jJVYF_18xRT",
        "outputId": "8867e1ab-447a-422e-ea47-732376050fa9"
      },
      "execution_count": 9,
      "outputs": [
        {
          "output_type": "stream",
          "name": "stdout",
          "text": [
            "<class 'pandas.core.frame.DataFrame'>\n",
            "RangeIndex: 9994 entries, 0 to 9993\n",
            "Data columns (total 11 columns):\n",
            " #   Column         Non-Null Count  Dtype         \n",
            "---  ------         --------------  -----         \n",
            " 0   Order ID       9994 non-null   object        \n",
            " 1   Customer Name  9994 non-null   object        \n",
            " 2   Category       9994 non-null   object        \n",
            " 3   Sub Category   9994 non-null   object        \n",
            " 4   City           9994 non-null   object        \n",
            " 5   Order Date     9994 non-null   datetime64[ns]\n",
            " 6   Region         9994 non-null   object        \n",
            " 7   Sales          9994 non-null   int64         \n",
            " 8   Discount       9994 non-null   float64       \n",
            " 9   Profit         9994 non-null   float64       \n",
            " 10  State          9994 non-null   object        \n",
            "dtypes: datetime64[ns](1), float64(2), int64(1), object(7)\n",
            "memory usage: 859.0+ KB\n"
          ]
        }
      ]
    },
    {
      "cell_type": "code",
      "source": [
        "# 2. Total Profit (if available, else compute it)\n",
        "if 'Profit' in df.columns:\n",
        "    total_profit = df['Profit'].sum()\n",
        "else:\n",
        "    # Estimate profit if not available, assuming 'Total' and 'Cost' or 'Unit Cost'\n",
        "    total_profit = df['Total'].sum() - (df['Unit cost'] * df['Quantity']).sum()\n",
        "print(f\"Total Profit: ₹{total_profit:,.2f}\")"
      ],
      "metadata": {
        "colab": {
          "base_uri": "https://localhost:8080/"
        },
        "id": "2MWQPv8i9yp7",
        "outputId": "2db531cb-af07-4c4f-ce3a-e46dce18e792"
      },
      "execution_count": 10,
      "outputs": [
        {
          "output_type": "stream",
          "name": "stdout",
          "text": [
            "Total Profit: ₹3,747,121.20\n"
          ]
        }
      ]
    },
    {
      "cell_type": "code",
      "source": [
        "# 1. Total Sales Revenue\n",
        "Total_Sales = df['Sales'].sum()\n",
        "print(f\"Total Sales Revenue: ₹{Total_Sales:,.2f}\")"
      ],
      "metadata": {
        "colab": {
          "base_uri": "https://localhost:8080/"
        },
        "id": "4qHtZu8355il",
        "outputId": "fd6cc473-fb30-4067-fcd9-99eb86411bdf"
      },
      "execution_count": 20,
      "outputs": [
        {
          "output_type": "stream",
          "name": "stdout",
          "text": [
            "Total Sales Revenue: ₹14,956,982.00\n"
          ]
        }
      ]
    },
    {
      "cell_type": "code",
      "source": [
        "# 4. Sales by Category\n",
        "sales_by_category = df.groupby('Category')['Sales'].sum().sort_values(ascending=False)\n",
        "print(\"\\nSales by Category:\")\n",
        "print(sales_by_category)"
      ],
      "metadata": {
        "colab": {
          "base_uri": "https://localhost:8080/"
        },
        "id": "u8MjD623-TCd",
        "outputId": "40eeab27-be5a-4af4-f80a-17a35d4bca1f"
      },
      "execution_count": 25,
      "outputs": [
        {
          "output_type": "stream",
          "name": "stdout",
          "text": [
            "\n",
            "Sales by Category:\n",
            "Category\n",
            "Eggs, Meat & Fish    2267401\n",
            "Snacks               2237546\n",
            "Food Grains          2115272\n",
            "Bakery               2112281\n",
            "Fruits & Veggies     2100727\n",
            "Beverages            2085313\n",
            "Oil & Masala         2038442\n",
            "Name: Sales, dtype: int64\n"
          ]
        }
      ]
    },
    {
      "cell_type": "code",
      "source": [],
      "metadata": {
        "id": "2-aH_HOu55ML"
      },
      "execution_count": null,
      "outputs": []
    },
    {
      "cell_type": "code",
      "source": [],
      "metadata": {
        "id": "7GvK_a41548B"
      },
      "execution_count": null,
      "outputs": []
    },
    {
      "cell_type": "code",
      "source": [],
      "metadata": {
        "id": "-imi9Bkk54nH"
      },
      "execution_count": null,
      "outputs": []
    }
  ]
}